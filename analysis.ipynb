{
 "cells": [
  {
   "cell_type": "markdown",
   "metadata": {},
   "source": [
    "# Engine Emissions & Health Analysis\n",
    "This notebook demonstrates analysis of synthetic engine emission data and its relation to engine health."
   ]
  },
  {
   "cell_type": "code",
   "execution_count": 1,
   "metadata": {},
   "outputs": [],
   "source": [
    "import pandas as pd\n",
    "import matplotlib.pyplot as plt\n",
    "import seaborn as sns\n",
    "import numpy as np\n",
    "\n",
    "# Generate synthetic dataset\n",
    "np.random.seed(42)\n",
    "n = 200\n",
    "co2 = np.random.normal(200, 40, n)\n",
    "nox = np.random.normal(50, 15, n)\n",
    "so2 = np.random.normal(30, 10, n)\n",
    "engine_hours = np.random.randint(500, 5000, n)\n",
    "maintenance_score = np.clip(100 - (engine_hours/100 + (co2/10 + nox/5 + so2/3)), 0, 100)\n",
    "\n",
    "df = pd.DataFrame({\n",
    "    'CO2_emission_ppm': co2,\n",
    "    'NOx_emission_ppm': nox,\n",
    "    'SO2_emission_ppm': so2,\n",
    "    'Operating_Hours': engine_hours,\n",
    "    'Maintenance_Score': maintenance_score\n",
    "})\n",
    "df.head()"
   ]
  },
  {
   "cell_type": "code",
   "execution_count": 2,
   "metadata": {},
   "outputs": [],
   "source": [
    "# Correlation heatmap\n",
    "plt.figure(figsize=(6,5))\n",
    "sns.heatmap(df.corr(), annot=True, cmap='coolwarm')\n",
    "plt.title('Correlation Between Emissions and Engine Health')\n",
    "plt.show()"
   ]
  },
  {
   "cell_type": "code",
   "execution_count": 3,
   "metadata": {},
   "outputs": [],
   "source": [
    "# Scatter plot\n",
    "sns.scatterplot(x='CO2_emission_ppm', y='Maintenance_Score', hue='Operating_Hours', data=df, palette='viridis')\n",
    "plt.title('CO2 Emissions vs Maintenance Score')\n",
    "plt.show()"
   ]
  }
 ],
 "metadata": {
  "kernelspec": {
   "display_name": "Python 3",
   "language": "python",
   "name": "python3"
  },
  "language_info": {
   "name": "python",
   "version": "3.11"
  }
 },
 "nbformat": 4,
 "nbformat_minor": 2
}